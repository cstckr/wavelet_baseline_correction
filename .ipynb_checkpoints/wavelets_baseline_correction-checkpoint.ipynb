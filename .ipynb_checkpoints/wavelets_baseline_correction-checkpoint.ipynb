{
 "cells": [
  {
   "cell_type": "markdown",
   "id": "9360aebf",
   "metadata": {},
   "source": [
    "# Wavelets for spectral smoothing and baseline correction\n",
    "In this notebook, I will show how wavelets can be used to smooth spectra and for baseline correction. This notebook makes use of the *pywavelets* package (https://pywavelets.readthedocs.io/en/latest/index.html). First, we will create an artificial spectrum on that we will test the algorithms:"
   ]
  },
  {
   "cell_type": "code",
   "execution_count": 1,
   "id": "f117fac9",
   "metadata": {},
   "outputs": [],
   "source": [
    "import numpy as np\n",
    "import pywt\n",
    "import plotly.express as px\n",
    "import plotly.graph_objects as go\n",
    "\n",
    "\n",
    "def lorentz(a, c, w, x):\n",
    "    y = a * (1 / (1 + ((x - c) / (0.5 * w))**2))\n",
    "    return y\n",
    "\n",
    "\n",
    "x = np.linspace(0.5, 3.5, 2048)\n",
    "np.random.seed(42)\n",
    "spectrum_noise = np.random.normal(0, 2, size=len(x))\n",
    "spectrum_baseline = 0.5 * (x - 2.5)**3 - 3 * (x - 2)**2 + 20\n",
    "spectrum_signals = lorentz(10, 1.05, 0.015, x)  \\\n",
    "                    + lorentz(15, 1.1, 0.03, x) \\\n",
    "                    + lorentz(20, 1.4, 0.01, x) \\\n",
    "                    + lorentz(15, 1.45, 0.02, x) \\\n",
    "                    + lorentz(25, 1.8, 0.01, x) \\\n",
    "                    + lorentz(5, 2.2, 0.06, x) \\\n",
    "                    + lorentz(5, 2.27, 0.06, x)\n",
    "y = spectrum_noise + spectrum_baseline + spectrum_signals\n",
    "\n",
    "fig = go.Figure()\n",
    "fig.add_scatter(x=x, y=y, name='Spectrum')\n",
    "fig.add_scatter(x=x, y=spectrum_signals, name='Spectrum without noise and baseline')\n",
    "fig.add_scatter(x=x, y=spectrum_baseline, name='Baseline')\n",
    "fig.update_layout(xaxis_title='x', yaxis_title='y', xaxis = dict(autorange=\"reversed\"))\n",
    "#fig.show()\n",
    "\n",
    "fig.write_image(\"fig1.png\")"
   ]
  },
  {
   "cell_type": "markdown",
   "id": "deeb31f3",
   "metadata": {},
   "source": [
    "![title](fig1.png)"
   ]
  },
  {
   "cell_type": "markdown",
   "id": "2ffbcbda",
   "metadata": {},
   "source": [
    "Let's smooth the spectrum using wavelets:"
   ]
  },
  {
   "cell_type": "code",
   "execution_count": 2,
   "id": "bc263dde",
   "metadata": {},
   "outputs": [],
   "source": [
    "def smooth_signal(signal, threshold, wavelet): \n",
    "    coeffs = pywt.wavedec(signal, wavelet)\n",
    "    coeffs[1:] = [pywt.threshold(x, threshold, 'soft') for x in coeffs[1:]]\n",
    "    y_smoothed = pywt.waverec(coeffs, wavelet)\n",
    "    return y_smoothed\n",
    "\n",
    "\n",
    "y_smoothed = smooth_signal(y, 2, 'coif6')\n",
    "\n",
    "fig = go.Figure()\n",
    "fig.add_scatter(x=x, y=y, name='Spectrum')\n",
    "fig.add_scatter(x=x, y=y_smoothed, name='Spectrum after smoothing')\n",
    "fig.add_scatter(x=x, y=(spectrum_baseline + spectrum_signals), name='Spectrum without noise')\n",
    "fig.update_layout(xaxis_title='x', yaxis_title='y', xaxis = dict(autorange=\"reversed\"))\n",
    "#fig.show()\n",
    "\n",
    "fig.write_image(\"fig2.png\")"
   ]
  },
  {
   "cell_type": "markdown",
   "id": "a3e6e48a",
   "metadata": {},
   "source": [
    "![title](fig2.png)"
   ]
  },
  {
   "cell_type": "markdown",
   "id": "a84d607f",
   "metadata": {},
   "source": [
    "Now, we will use wavelets to perform baseline correction. The basic idea of the algorithm implemented below is picked up from following publication:\n",
    "- Galloway, Ru & Etchegoin, An Iterative Algorithm for Background Removal in Spectroscopy by Wavelet Transforms. *Applied Spectroscopy*, **2009**, *63*, 1370-1376."
   ]
  },
  {
   "cell_type": "code",
   "execution_count": 3,
   "id": "77028203",
   "metadata": {
    "scrolled": false
   },
   "outputs": [],
   "source": [
    "def correct_baseline(signal, convergence_criterion, threshold, wavelet, maxiter=50):\n",
    "    baselines = np.zeros((maxiter + 1, len(signal)))\n",
    "    baselines[0] = np.copy(signal)\n",
    "    deviations = np.zeros(maxiter)\n",
    "    \n",
    "    for i in range(1,maxiter+1):\n",
    "        coeffs = pywt.wavedec(baselines[i - 1], wavelet)\n",
    "        coeffs[1:] = [pywt.threshold(x, threshold, 'soft') for x in coeffs[1:]]    \n",
    "            \n",
    "        y_reconstructed = pywt.waverec(coeffs, wavelet)\n",
    "        baselines[i] = np.where(baselines[i - 1] > y_reconstructed, y_reconstructed, baselines[i - 1])\n",
    "        deviations[i - 1] = np.sum((baselines[i] - baselines[i - 1])**2 / len(signal))\n",
    "        \n",
    "        if (i >= 2) & ((deviations[i - 2] / deviations[i - 1]) < convergence_criterion):\n",
    "            baselines[i] = 0\n",
    "            break\n",
    "            \n",
    "    baselines = baselines[~np.all(baselines == 0, axis=1)]\n",
    "    baseline = baselines[-1]\n",
    "    y_corrected = signal - baseline\n",
    "    baseline = smooth_signal(baseline, threshold, wavelet)\n",
    "    return y_corrected, baseline\n",
    "\n",
    "y_corrected1, baseline1 = correct_baseline(y, 1.2, 100, 'db3')\n",
    "\n",
    "fig = go.Figure()\n",
    "fig.add_scatter(x=x, y=y, name='Spectrum')\n",
    "fig.add_scatter(x=x, y=y_corrected1, name='Baseline-corrected spectrum')\n",
    "fig.add_scatter(x=x, y=spectrum_signals, name='Spectrum without noise and baseline')\n",
    "fig.add_scatter(x=x, y=baseline1, name='Calculated baseline')\n",
    "fig.add_scatter(x=x, y=spectrum_baseline, name='Actual baseline')\n",
    "fig.update_layout(xaxis_title='x', yaxis_title='y', xaxis = dict(autorange=\"reversed\"))\n",
    "#fig.show()\n",
    "\n",
    "fig.write_image(\"fig3.png\")"
   ]
  },
  {
   "cell_type": "markdown",
   "id": "25d6e506",
   "metadata": {},
   "source": [
    "![title](fig3.png)"
   ]
  },
  {
   "cell_type": "markdown",
   "id": "85057f26",
   "metadata": {},
   "source": [
    "We will compare the results of the wavelet baseline correction method implemented above to another baseline correction method. For this, we will use the arPLS baseline correction method from Baek et al. (Baek, Park, Ahna and Choo, Baseline correction using asymmetrically reweighted penalized least squares smoothing. *Analyst* **2015**, *140*, 250-257) as implemented in the *pybaselines* (https://pybaselines.readthedocs.io/en/latest/index.html) package:"
   ]
  },
  {
   "cell_type": "code",
   "execution_count": 4,
   "id": "edae7571",
   "metadata": {},
   "outputs": [],
   "source": [
    "import pybaselines\n",
    "baseline2, params = pybaselines.whittaker.arpls(y, diff_order=2, lam=10**9)\n",
    "y_corrected2 = y - baseline2\n",
    "\n",
    "fig = go.Figure()\n",
    "fig.add_scatter(x=x, y=y, name='Spectrum')\n",
    "fig.add_scatter(x=x, y=y_corrected2, name='Baseline-corrected spectrum')\n",
    "fig.add_scatter(x=x, y=spectrum_signals, name='Spectrum without noise and baseline')\n",
    "fig.add_scatter(x=x, y=baseline2, name='Calculated baseline')\n",
    "fig.add_scatter(x=x, y=spectrum_baseline, name='Actual baseline')\n",
    "fig.update_layout(xaxis_title='x', yaxis_title='y', xaxis = dict(autorange=\"reversed\"))\n",
    "#fig.show()\n",
    "\n",
    "fig.write_image(\"fig4.png\")"
   ]
  },
  {
   "cell_type": "markdown",
   "id": "0c37d204",
   "metadata": {},
   "source": [
    "![title](fig4.png)"
   ]
  },
  {
   "cell_type": "markdown",
   "id": "aa4d6d26",
   "metadata": {},
   "source": [
    "It is obvious that the arPLS method results in a better baseline correction. The wavelet baseline correction method has a strong tendency to systematically underestimate the baseline. The arPLS method is also more robust and has only one parameter that needs to be adapted."
   ]
  }
 ],
 "metadata": {
  "kernelspec": {
   "display_name": "Python 3 (ipykernel)",
   "language": "python",
   "name": "python3"
  },
  "language_info": {
   "codemirror_mode": {
    "name": "ipython",
    "version": 3
   },
   "file_extension": ".py",
   "mimetype": "text/x-python",
   "name": "python",
   "nbconvert_exporter": "python",
   "pygments_lexer": "ipython3",
   "version": "3.8.8"
  }
 },
 "nbformat": 4,
 "nbformat_minor": 5
}
